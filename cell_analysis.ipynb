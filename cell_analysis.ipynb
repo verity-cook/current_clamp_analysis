{
 "cells": [
  {
   "cell_type": "code",
   "metadata": {
    "cell_id": "3839164cb8264630811c9c60124dde6f",
    "tags": [],
    "deepnote_to_be_reexecuted": false,
    "source_hash": "4f49071b",
    "execution_start": 1661157156105,
    "execution_millis": 4328,
    "deepnote_cell_type": "code",
    "deepnote_cell_height": 693.078125
   },
   "source": "!pip install pyabf==2.3.6",
   "outputs": [
    {
     "name": "stdout",
     "text": "Collecting pyabf==2.3.6\n  Downloading pyabf-2.3.6-py3-none-any.whl (53 kB)\n\u001b[2K     \u001b[90m━━━━━━━━━━━━━━━━━━━━━━━━━━━━━━━━━━━━━━━━\u001b[0m \u001b[32m53.2/53.2 KB\u001b[0m \u001b[31m13.3 MB/s\u001b[0m eta \u001b[36m0:00:00\u001b[0m\n\u001b[?25hRequirement already satisfied: numpy>=1.13.3 in /shared-libs/python3.9/py/lib/python3.9/site-packages (from pyabf==2.3.6) (1.23.1)\nCollecting pytest>=3.0.7\n  Downloading pytest-7.1.2-py3-none-any.whl (297 kB)\n\u001b[2K     \u001b[90m━━━━━━━━━━━━━━━━━━━━━━━━━━━━━━━━━━━━━━\u001b[0m \u001b[32m297.0/297.0 KB\u001b[0m \u001b[31m27.8 MB/s\u001b[0m eta \u001b[36m0:00:00\u001b[0m\n\u001b[?25hRequirement already satisfied: matplotlib>=2.1.0 in /shared-libs/python3.9/py/lib/python3.9/site-packages (from pyabf==2.3.6) (3.5.2)\nRequirement already satisfied: kiwisolver>=1.0.1 in /shared-libs/python3.9/py/lib/python3.9/site-packages (from matplotlib>=2.1.0->pyabf==2.3.6) (1.4.4)\nRequirement already satisfied: pyparsing>=2.2.1 in /shared-libs/python3.9/py-core/lib/python3.9/site-packages (from matplotlib>=2.1.0->pyabf==2.3.6) (3.0.9)\nRequirement already satisfied: pillow>=6.2.0 in /shared-libs/python3.9/py/lib/python3.9/site-packages (from matplotlib>=2.1.0->pyabf==2.3.6) (9.2.0)\nRequirement already satisfied: fonttools>=4.22.0 in /shared-libs/python3.9/py/lib/python3.9/site-packages (from matplotlib>=2.1.0->pyabf==2.3.6) (4.34.4)\nRequirement already satisfied: python-dateutil>=2.7 in /shared-libs/python3.9/py-core/lib/python3.9/site-packages (from matplotlib>=2.1.0->pyabf==2.3.6) (2.8.2)\nRequirement already satisfied: packaging>=20.0 in /shared-libs/python3.9/py-core/lib/python3.9/site-packages (from matplotlib>=2.1.0->pyabf==2.3.6) (21.3)\nRequirement already satisfied: cycler>=0.10 in /shared-libs/python3.9/py/lib/python3.9/site-packages (from matplotlib>=2.1.0->pyabf==2.3.6) (0.11.0)\nCollecting iniconfig\n  Downloading iniconfig-1.1.1-py2.py3-none-any.whl (5.0 kB)\nRequirement already satisfied: attrs>=19.2.0 in /shared-libs/python3.9/py-core/lib/python3.9/site-packages (from pytest>=3.0.7->pyabf==2.3.6) (22.1.0)\nCollecting tomli>=1.0.0\n  Downloading tomli-2.0.1-py3-none-any.whl (12 kB)\nCollecting py>=1.8.2\n  Downloading py-1.11.0-py2.py3-none-any.whl (98 kB)\n\u001b[2K     \u001b[90m━━━━━━━━━━━━━━━━━━━━━━━━━━━━━━━━━━━━━━━━\u001b[0m \u001b[32m98.7/98.7 KB\u001b[0m \u001b[31m31.9 MB/s\u001b[0m eta \u001b[36m0:00:00\u001b[0m\n\u001b[?25hRequirement already satisfied: pluggy<2.0,>=0.12 in /shared-libs/python3.9/py-core/lib/python3.9/site-packages (from pytest>=3.0.7->pyabf==2.3.6) (1.0.0)\nRequirement already satisfied: six>=1.5 in /shared-libs/python3.9/py-core/lib/python3.9/site-packages (from python-dateutil>=2.7->matplotlib>=2.1.0->pyabf==2.3.6) (1.16.0)\nInstalling collected packages: iniconfig, tomli, py, pytest, pyabf\nSuccessfully installed iniconfig-1.1.1 py-1.11.0 pyabf-2.3.6 pytest-7.1.2 tomli-2.0.1\n\u001b[33mWARNING: You are using pip version 22.0.4; however, version 22.2.2 is available.\nYou should consider upgrading via the '/root/venv/bin/python -m pip install --upgrade pip' command.\u001b[0m\u001b[33m\n\u001b[0m",
     "output_type": "stream"
    }
   ],
   "execution_count": null
  },
  {
   "cell_type": "code",
   "metadata": {
    "tags": [],
    "cell_id": "73091720-22cf-4c6f-a59c-6fc867104eb5",
    "deepnote_to_be_reexecuted": false,
    "source_hash": "5bdbc51e",
    "execution_start": 1661157160440,
    "execution_millis": 2007,
    "deepnote_cell_type": "code",
    "deepnote_cell_height": 202
   },
   "source": "import pandas as pd\nimport cell_analysis_methods as methods\nimport os\nimport numpy as np\nimport matplotlib.pyplot as plt\nfrom tqdm import tqdm\nimport warnings\nwarnings.filterwarnings(\"ignore\")",
   "outputs": [],
   "execution_count": null
  },
  {
   "cell_type": "code",
   "metadata": {
    "cell_id": "d05fe34a89a34edba7f1420cfd7bc287",
    "tags": [],
    "deepnote_to_be_reexecuted": false,
    "source_hash": "1f4d2807",
    "execution_start": 1661157162472,
    "execution_millis": 1,
    "owner_user_id": "6551a43d-30c3-4bb7-90d4-7f328f7b2364",
    "deepnote_cell_type": "code",
    "deepnote_cell_height": 2344
   },
   "source": "def get_cells(date, data_folder = '/work/data'):\n    cells = []\n    for fn in os.listdir(os.path.join('/work/data', date)):\n        start = fn.find('_') + 5\n        stop = fn[start + 1:].find('_') + start + 1\n        cell_n = int(fn[start:stop])\n        if cell_n not in cells:\n            cells.append(cell_n)\n    return np.array(cells)\n\ndef split_IV_data(data):\n    \"\"\"\n    split IV data into resting and holding\n    \"\"\"\n    ordered_files = []\n    prot_n = [int(fn[-8:-4]) for fn in data.keys()]\n    rest = data[[fn for fn in data.keys() if fn.endswith(\"{:04d}.abf\".format(min(prot_n)))][0]]\n    holding = data[[fn for fn in data.keys() if fn.endswith(\"{:04d}.abf\".format(max(prot_n)))][0]]\n\n    ordered_files = [rest, holding]\n    return ordered_files\n\ndef just_data(data):\n    for data_file in data.keys():\n        return data[data_file]\n        \ndef run_analysis(data_path = '/work/data', save_path = '/work'):\n    dates = os.listdir(data_path)\n    all_cells = {'date': [],\n                'cell': [],\n                'RMP':[],\n                'rheobase': [],\n                'threshold': [],\n                'height': [],\n                'width': [],\n                'spikes': [],\n                'spikes_hold': [],\n                'spike_n': [],\n                'spike_n_hold':[],\n                'spike_r':[],\n                'spike_r_hold':[],\n                'spike_adapt': [],\n                'spike_adapt_hold': [],\n                'Rm':[],\n                'tau':[]\n                }\n\n    date_cell = {}\n    total_cells = 0\n    for date in dates:\n        date_cell[date] = get_cells(date)\n        total_cells += len(date_cell[date])\n\n    print(\"total cells: {}\".format(total_cells))\n    with tqdm(total = total_cells) as progress:\n        for date in tqdm(dates):\n            cells = date_cell[date]\n            for cell in cells:\n                data_files = methods.get_data(date, cell)\n                data_contained = data_files.keys()\n            \n                cell_RMP = methods.get_RMP(data_files)\n                try:\n                    cell_rheobase = methods.get_Rheobase(data_files)\n                    cell_threshold = methods.get_spike_threshold(data_files)\n                    cell_height = methods.get_spike_height(data_files)\n                    cell_width = methods.get_spike_width(data_files)\n                except:\n                    cell_rheobase = np.nan\n                    cell_threshold = np.nan\n                    cell_height = np.nan\n                    cell_width = np.nan\n            \n                try:\n                    cell_IV_spikes = methods.get_IV_spikes(data_files)\n                    cell_spikes = split_IV_data(cell_IV_spikes)\n                    \n                    cell_IV_spike_n = methods.get_IV_spike_number(data_files)\n                    cell_spike_n = split_IV_data(cell_IV_spike_n)\n\n                    cell_IV_spike_r = methods.get_IV_spike_rate(data_files)\n                    cell_spike_r = split_IV_data(cell_IV_spike_r)\n\n                    cell_IV_spike_adapt = methods.get_IV_adaptation(data_files)\n                    cell_spike_adapt = split_IV_data(cell_IV_spike_adapt)\n\n                except:\n                    cell_spikes = [np.nan, np.nan]\n                    cell_spike_n = [np.nan, np.nan]\n                    cell_spike_r = [np.nan, np.nan]\n                    cell_spike_adapt = [np.nan, np.nan]\n                \n                try:\n                    cell_Rm = just_data(methods.get_Rm(data_files))\n                except:\n                    cell_Rm = np.nan\n                \n                try:\n                    cell_tau = just_data(methods.get_tau(data_files))\n                except:\n                    cell_tau = np.nan\n\n                all_cells['date'].append(date)\n                all_cells['cell'].append(cell)\n                all_cells['RMP'].append(cell_RMP)\n                all_cells['rheobase'].append(cell_rheobase)\n                all_cells['threshold'].append(cell_threshold)\n                all_cells['height'].append(cell_height)\n                all_cells['width'].append(cell_width)\n                all_cells['spikes'].append(cell_spikes[0])\n                all_cells['spikes_hold'].append(cell_spikes[1])\n                all_cells['spike_n'].append(cell_spike_n[0])\n                all_cells['spike_n_hold'].append(cell_spike_n[1])\n                all_cells['spike_r'].append(cell_spike_r[0])\n                all_cells['spike_r_hold'].append(cell_spike_r[1])\n                all_cells['spike_adapt'].append(cell_spike_adapt[0])\n                all_cells['spike_adapt_hold'].append(cell_spike_adapt[1])\n                all_cells['Rm'].append(cell_Rm)\n                all_cells['tau'].append(cell_tau)   \n\n                progress.update(1)\n        \n    all_cells = pd.DataFrame(all_cells)\n    file_path = '{}/all_cell_data'.format(save_path)\n    all_cells.to_pickle(file_path)\n    print('data saved as pickle: {}'.format(file_path))\n    return all_cells",
   "outputs": [],
   "execution_count": null
  },
  {
   "cell_type": "code",
   "metadata": {
    "cell_id": "cd5c2d3d00984748934ec20faad2f9e2",
    "tags": [],
    "deepnote_to_be_reexecuted": false,
    "source_hash": "92e285fe",
    "execution_start": 1661157162479,
    "execution_millis": 117557,
    "deepnote_cell_type": "code",
    "deepnote_cell_height": 602.25,
    "deepnote_output_heights": [
     null,
     135.359375
    ]
   },
   "source": "run_analysis()\nall_cells",
   "outputs": [
    {
     "name": "stdout",
     "text": "total cells: 53\n  0%|          | 0/53 [00:00<?, ?it/s]\n  2%|▏         | 1/53 [00:03<02:52,  3.32s/it]\n  4%|▍         | 2/53 [00:05<02:18,  2.72s/it]\n 28%|██▊       | 15/53 [00:34<01:55,  3.04s/it]\n 32%|███▏      | 17/53 [00:37<01:23,  2.33s/it]\n 42%|████▏     | 22/53 [00:46<00:56,  1.83s/it]\n 58%|█████▊    | 31/53 [01:05<00:44,  2.01s/it]\n 62%|██████▏   | 33/53 [01:08<00:36,  1.82s/it]\n 77%|███████▋  | 41/53 [01:21<00:21,  1.75s/it]\n100%|██████████| 53/53 [01:56<00:00,  4.98s/it]\n100%|██████████| 9/9 [01:56<00:00, 12.94s/it]\n100%|██████████| 53/53 [01:56<00:00,  2.20s/it]\ndata saved as pickle: /work/all_cell_data\n",
     "output_type": "stream"
    },
    {
     "output_type": "error",
     "ename": "NameError",
     "evalue": "name 'all_cells' is not defined",
     "traceback": [
      "\u001b[0;31m---------------------------------------------------------------------------\u001b[0m",
      "\u001b[0;31mNameError\u001b[0m                                 Traceback (most recent call last)",
      "Input \u001b[0;32mIn [4]\u001b[0m, in \u001b[0;36m<cell line: 2>\u001b[0;34m()\u001b[0m\n\u001b[1;32m      1\u001b[0m run_analysis()\n\u001b[0;32m----> 2\u001b[0m \u001b[43mall_cells\u001b[49m\n",
      "\u001b[0;31mNameError\u001b[0m: name 'all_cells' is not defined"
     ]
    }
   ],
   "execution_count": null
  },
  {
   "cell_type": "markdown",
   "source": "<a style='text-decoration:none;line-height:16px;display:flex;color:#5B5B62;padding:10px;justify-content:end;' href='https://deepnote.com?utm_source=created-in-deepnote-cell&projectId=99013d08-680f-4983-9780-1a2087bba930' target=\"_blank\">\n<img alt='Created in deepnote.com' style='display:inline;max-height:16px;margin:0px;margin-right:7.5px;' src='data:image/svg+xml;base64,PD94bWwgdmVyc2lvbj0iMS4wIiBlbmNvZGluZz0iVVRGLTgiPz4KPHN2ZyB3aWR0aD0iODBweCIgaGVpZ2h0PSI4MHB4IiB2aWV3Qm94PSIwIDAgODAgODAiIHZlcnNpb249IjEuMSIgeG1sbnM9Imh0dHA6Ly93d3cudzMub3JnLzIwMDAvc3ZnIiB4bWxuczp4bGluaz0iaHR0cDovL3d3dy53My5vcmcvMTk5OS94bGluayI+CiAgICA8IS0tIEdlbmVyYXRvcjogU2tldGNoIDU0LjEgKDc2NDkwKSAtIGh0dHBzOi8vc2tldGNoYXBwLmNvbSAtLT4KICAgIDx0aXRsZT5Hcm91cCAzPC90aXRsZT4KICAgIDxkZXNjPkNyZWF0ZWQgd2l0aCBTa2V0Y2guPC9kZXNjPgogICAgPGcgaWQ9IkxhbmRpbmciIHN0cm9rZT0ibm9uZSIgc3Ryb2tlLXdpZHRoPSIxIiBmaWxsPSJub25lIiBmaWxsLXJ1bGU9ImV2ZW5vZGQiPgogICAgICAgIDxnIGlkPSJBcnRib2FyZCIgdHJhbnNmb3JtPSJ0cmFuc2xhdGUoLTEyMzUuMDAwMDAwLCAtNzkuMDAwMDAwKSI+CiAgICAgICAgICAgIDxnIGlkPSJHcm91cC0zIiB0cmFuc2Zvcm09InRyYW5zbGF0ZSgxMjM1LjAwMDAwMCwgNzkuMDAwMDAwKSI+CiAgICAgICAgICAgICAgICA8cG9seWdvbiBpZD0iUGF0aC0yMCIgZmlsbD0iIzAyNjVCNCIgcG9pbnRzPSIyLjM3NjIzNzYyIDgwIDM4LjA0NzY2NjcgODAgNTcuODIxNzgyMiA3My44MDU3NTkyIDU3LjgyMTc4MjIgMzIuNzU5MjczOSAzOS4xNDAyMjc4IDMxLjY4MzE2ODMiPjwvcG9seWdvbj4KICAgICAgICAgICAgICAgIDxwYXRoIGQ9Ik0zNS4wMDc3MTgsODAgQzQyLjkwNjIwMDcsNzYuNDU0OTM1OCA0Ny41NjQ5MTY3LDcxLjU0MjI2NzEgNDguOTgzODY2LDY1LjI2MTk5MzkgQzUxLjExMjI4OTksNTUuODQxNTg0MiA0MS42NzcxNzk1LDQ5LjIxMjIyODQgMjUuNjIzOTg0Niw0OS4yMTIyMjg0IEMyNS40ODQ5Mjg5LDQ5LjEyNjg0NDggMjkuODI2MTI5Niw0My4yODM4MjQ4IDM4LjY0NzU4NjksMzEuNjgzMTY4MyBMNzIuODcxMjg3MSwzMi41NTQ0MjUgTDY1LjI4MDk3Myw2Ny42NzYzNDIxIEw1MS4xMTIyODk5LDc3LjM3NjE0NCBMMzUuMDA3NzE4LDgwIFoiIGlkPSJQYXRoLTIyIiBmaWxsPSIjMDAyODY4Ij48L3BhdGg+CiAgICAgICAgICAgICAgICA8cGF0aCBkPSJNMCwzNy43MzA0NDA1IEwyNy4xMTQ1MzcsMC4yNTcxMTE0MzYgQzYyLjM3MTUxMjMsLTEuOTkwNzE3MDEgODAsMTAuNTAwMzkyNyA4MCwzNy43MzA0NDA1IEM4MCw2NC45NjA0ODgyIDY0Ljc3NjUwMzgsNzkuMDUwMzQxNCAzNC4zMjk1MTEzLDgwIEM0Ny4wNTUzNDg5LDc3LjU2NzA4MDggNTMuNDE4MjY3Nyw3MC4zMTM2MTAzIDUzLjQxODI2NzcsNTguMjM5NTg4NSBDNTMuNDE4MjY3Nyw0MC4xMjg1NTU3IDM2LjMwMzk1NDQsMzcuNzMwNDQwNSAyNS4yMjc0MTcsMzcuNzMwNDQwNSBDMTcuODQzMDU4NiwzNy43MzA0NDA1IDkuNDMzOTE5NjYsMzcuNzMwNDQwNSAwLDM3LjczMDQ0MDUgWiIgaWQ9IlBhdGgtMTkiIGZpbGw9IiMzNzkzRUYiPjwvcGF0aD4KICAgICAgICAgICAgPC9nPgogICAgICAgIDwvZz4KICAgIDwvZz4KPC9zdmc+' > </img>\nCreated in <span style='font-weight:600;margin-left:4px;'>Deepnote</span></a>",
   "metadata": {
    "tags": [],
    "created_in_deepnote_cell": true,
    "deepnote_cell_type": "markdown"
   }
  }
 ],
 "nbformat": 4,
 "nbformat_minor": 2,
 "metadata": {
  "orig_nbformat": 2,
  "deepnote": {},
  "deepnote_notebook_id": "40e86417-7e03-481c-9f22-978bda0757ea",
  "deepnote_execution_queue": []
 }
}